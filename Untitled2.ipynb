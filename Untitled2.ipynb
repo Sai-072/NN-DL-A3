{
  "nbformat": 4,
  "nbformat_minor": 0,
  "metadata": {
    "colab": {
      "provenance": [],
      "authorship_tag": "ABX9TyNt6Rq9mWnr0omE4Fir/X7R",
      "include_colab_link": true
    },
    "kernelspec": {
      "name": "python3",
      "display_name": "Python 3"
    },
    "language_info": {
      "name": "python"
    }
  },
  "cells": [
    {
      "cell_type": "markdown",
      "metadata": {
        "id": "view-in-github",
        "colab_type": "text"
      },
      "source": [
        "<a href=\"https://colab.research.google.com/github/Sai-072/NN-DL-A3/blob/main/Untitled2.ipynb\" target=\"_parent\"><img src=\"https://colab.research.google.com/assets/colab-badge.svg\" alt=\"Open In Colab\"/></a>"
      ]
    },
    {
      "cell_type": "code",
      "execution_count": 1,
      "metadata": {
        "colab": {
          "base_uri": "https://localhost:8080/"
        },
        "id": "4SCDkVbeDzVt",
        "outputId": "d0e4e53b-5d09-413b-b048-19850b07692f"
      },
      "outputs": [
        {
          "output_type": "stream",
          "name": "stdout",
          "text": [
            "Total Employees: 4\n",
            "Average Salary: 60000.0\n"
          ]
        }
      ],
      "source": [
        "#Employee Class\n",
        "class Employee:\n",
        "    num_of_employees = 0\n",
        "\n",
        "    #initializing the attributes\n",
        "    def __init__(self, name, family, salary, department):\n",
        "        self.name = name\n",
        "        self.family = family\n",
        "        self.salary = salary\n",
        "        self.department = department\n",
        "        Employee.num_of_employees += 1\n",
        "\n",
        "    #Average Salary Method\n",
        "    def averageSalary(self, employees):\n",
        "        total_salary = sum(emp.salary for emp in employees)\n",
        "        return total_salary / len(employees)\n",
        "#Full Time Employee Class - Super Class\n",
        "class FulltimeEmployee(Employee):\n",
        "    def __init__(self, name, family, salary, department, employment_type):\n",
        "        super().__init__(name, family, salary, department)\n",
        "        self.employment_type = employment_type\n",
        "\n",
        "# Instances of Employee class\n",
        "employee1 = Employee(\"Swathi\", \"Kothi\", 50000, \"Senior Software\")\n",
        "employee2 = Employee(\"Ashwini\", \"Alakuntla\", 80000, \"Manager\")\n",
        "\n",
        "# Instances of FulltimeEmployee class\n",
        "fulltime1 = FulltimeEmployee(\"Aishwarya\", \"Tagili\", 50000, \"Engineering\", \"FullTime\")\n",
        "fulltime2 = FulltimeEmployee(\"Sofeen\", \"Firdouse\", 60000, \"Marketing\", \"PartTime\")\n",
        "\n",
        "# Call member functions\n",
        "employees = [employee1, employee2, fulltime1, fulltime2]\n",
        "avgSalary = employee1.averageSalary(employees)\n",
        "\n",
        "print(\"Total Employees:\", Employee.num_of_employees)\n",
        "print(\"Average Salary:\", avgSalary)"
      ]
    },
    {
      "cell_type": "code",
      "source": [
        "import numpy as np\n",
        "#generating a vector\n",
        "vector = np.random.uniform(1, 20, 20)\n",
        "\n",
        "#reshaping the vector into 4 * 5 matrix\n",
        "matrix = vector.reshape(4, 5)\n",
        "\n",
        "print(\"Original Matrix: \\n\",matrix)\n",
        "\n",
        "#finding the index of the max element along axis = 1\n",
        "indices = np.argmax(matrix, axis=1)\n",
        "\n",
        "#Create a range of indices for each row\n",
        "row_indices = np.arange(matrix.shape[0])\n",
        "\n",
        "#Use advanced indexing to replace max values with 0\n",
        "matrix[row_indices, indices] = 0\n",
        "\n",
        "print(\"Resultant Matrix: \\n\",matrix)\n",
        ""
      ],
      "metadata": {
        "colab": {
          "base_uri": "https://localhost:8080/"
        },
        "id": "OdqSUU-FD-G6",
        "outputId": "6b5da1fc-8ab0-4e31-c010-90018c9223f4"
      },
      "execution_count": 2,
      "outputs": [
        {
          "output_type": "stream",
          "name": "stdout",
          "text": [
            "Original Matrix: \n",
            " [[13.62452821 19.80268669  5.12072785 16.33258819 12.32449381]\n",
            " [ 4.03164293  8.3019167  17.42593464 16.72092948  8.02385948]\n",
            " [ 6.74777771 19.3329272   1.79002167 15.27342038  8.92872187]\n",
            " [ 6.76815053  8.10547587  9.34933486  4.80226194 14.14237735]]\n",
            "Resultant Matrix: \n",
            " [[13.62452821  0.          5.12072785 16.33258819 12.32449381]\n",
            " [ 4.03164293  8.3019167   0.         16.72092948  8.02385948]\n",
            " [ 6.74777771  0.          1.79002167 15.27342038  8.92872187]\n",
            " [ 6.76815053  8.10547587  9.34933486  4.80226194  0.        ]]\n"
          ]
        }
      ]
    }
  ]
}